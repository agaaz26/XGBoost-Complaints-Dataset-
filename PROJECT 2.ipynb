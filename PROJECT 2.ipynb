{
 "cells": [
  {
   "cell_type": "code",
   "execution_count": 4,
   "id": "f266f782-dcd8-44b6-88e1-23041b087b0f",
   "metadata": {
    "tags": []
   },
   "outputs": [
    {
     "name": "stdout",
     "output_type": "stream",
     "text": [
      "              precision    recall  f1-score   support\n",
      "\n",
      "           0       0.84      0.53      0.65     32504\n",
      "           1       0.27      0.63      0.38      8948\n",
      "\n",
      "    accuracy                           0.55     41452\n",
      "   macro avg       0.55      0.58      0.51     41452\n",
      "weighted avg       0.71      0.55      0.59     41452\n",
      "\n",
      "[[17244 15260]\n",
      " [ 3346  5602]]\n",
      "Base case cost: 8619200\n",
      "Cost with model without extra diligence: 8619200\n",
      "Cost with model with extra diligence: 7695780\n"
     ]
    }
   ],
   "source": [
    "import pandas as pd\n",
    "from sklearn.model_selection import train_test_split\n",
    "from sklearn.preprocessing import LabelEncoder\n",
    "from imblearn.under_sampling import RandomUnderSampler\n",
    "from xgboost import XGBClassifier\n",
    "from sklearn.metrics import classification_report, confusion_matrix\n",
    "import numpy as np\n",
    "\n",
    "# Load the dataset\n",
    "df = pd.read_csv('shared/complaints_25Nov21.csv')\n",
    "\n",
    "# Fill missing values\n",
    "df = df.fillna('missing')\n",
    "\n",
    "# Selecting predictor variables and target variable\n",
    "X = df[['Product', 'Sub-product', 'Issue', 'State', 'Tags', 'Submitted via', 'Company response to consumer', 'Timely response?']]\n",
    "y = df['Consumer disputed?']\n",
    "\n",
    "# Convert categorical variables using get_dummies\n",
    "X = pd.get_dummies(X, drop_first=True)\n",
    "\n",
    "# Encode the target variable\n",
    "le = LabelEncoder()\n",
    "y = le.fit_transform(y)\n",
    "\n",
    "# Split the dataset into training and test sets\n",
    "X_train, X_test, y_train, y_test = train_test_split(X, y, test_size=0.2, random_state=123)\n",
    "\n",
    "# Check and balance the dataset\n",
    "dispute_proportion = y_train.sum() / len(y_train)\n",
    "if dispute_proportion < 0.3:\n",
    "    undersampler = RandomUnderSampler(random_state=123)\n",
    "    X_train, y_train = undersampler.fit_resample(X_train, y_train)\n",
    "\n",
    "# Initialize and train the XGBoost Classifier\n",
    "model_xgb = XGBClassifier(random_state=123)\n",
    "model_xgb.fit(X_train, y_train)\n",
    "\n",
    "# Predict on the test set\n",
    "y_pred = model_xgb.predict(X_test)\n",
    "\n",
    "# Generate classification report and confusion matrix\n",
    "print(classification_report(y_test, y_pred))\n",
    "print(confusion_matrix(y_test, y_pred))\n",
    "\n",
    "# Calculate cost without a model\n",
    "cost_base_case = y_test.sum() * 600 + (len(y_test) - y_test.sum()) * 100\n",
    "\n",
    "# Calculate cost with the model predictions\n",
    "tn, fp, fn, tp = confusion_matrix(y_test, y_pred).ravel()\n",
    "cost_model_no_diligence = tp * 600 + fn * 600 + tn * 100 + fp * 100\n",
    "cost_model_with_diligence = tp * 190 + fn * 600 + tn * 100 + fp * 190\n",
    "\n",
    "print(\"Base case cost:\", cost_base_case)\n",
    "print(\"Cost with model without extra diligence:\", cost_model_no_diligence)\n",
    "print(\"Cost with model with extra diligence:\", cost_model_with_diligence)\n",
    "\n",
    "# Optimize the threshold to minimize total cost\n",
    "thresholds = np.linspace(0, 1, 101)\n",
    "costs = []\n",
    "\n",
    "for threshold in thresholds:\n",
    "    y_pred_adjusted = (model_xgb.predict_proba(X_test)[:, 1] > threshold).astype(int)\n",
    "    tn, fp, fn, tp = confusion_matrix(y_test, y_pred_adjusted).ravel()\n",
    "    cost = tp * 190 + fn * 600 + tn * 100 + fp * 190\n",
    "    costs.append(cost)"
   ]
  },
  {
   "cell_type": "code",
   "execution_count": 5,
   "id": "88072ed2-a9af-438d-9e02-a583fbd0625b",
   "metadata": {
    "tags": []
   },
   "outputs": [
    {
     "name": "stdout",
     "output_type": "stream",
     "text": [
      "Optimal threshold: 0.46\n",
      "Minimum cost with model: 7589140\n"
     ]
    }
   ],
   "source": [
    "min_cost = min(costs)\n",
    "optimal_threshold = thresholds[costs.index(min_cost)]\n",
    "print(\"Optimal threshold:\", optimal_threshold)\n",
    "print(\"Minimum cost with model:\", min_cost)"
   ]
  },
  {
   "cell_type": "code",
   "execution_count": 6,
   "id": "b138d35a-6305-4eec-a2db-ead6ee51410a",
   "metadata": {
    "tags": []
   },
   "outputs": [
    {
     "name": "stdout",
     "output_type": "stream",
     "text": [
      "0.21586413200810575\n"
     ]
    }
   ],
   "source": [
    "q1 = np.mean(y_test)\n",
    "print(q1)"
   ]
  },
  {
   "cell_type": "code",
   "execution_count": 7,
   "id": "75906b72-1231-438e-90ca-918541ac200c",
   "metadata": {
    "tags": []
   },
   "outputs": [
    {
     "name": "stdout",
     "output_type": "stream",
     "text": [
      "Recall for 'Consumer disputed?' = 'Yes': 0.63\n"
     ]
    }
   ],
   "source": [
    "# Generate classification report\n",
    "report = classification_report(y_test, y_pred, target_names=le.classes_, output_dict=True)\n",
    "\n",
    "# Recall for 'Consumer disputed?' = 'Yes'\n",
    "recall_disputed_yes = report['Yes']['recall']\n",
    "print(f\"Recall for 'Consumer disputed?' = 'Yes': {recall_disputed_yes:.2f}\")"
   ]
  },
  {
   "cell_type": "code",
   "execution_count": 8,
   "id": "a275952a-8e3e-42bc-b68b-3a209f49ed3c",
   "metadata": {
    "tags": []
   },
   "outputs": [
    {
     "name": "stdout",
     "output_type": "stream",
     "text": [
      "Total cost without a model: $8619200\n"
     ]
    }
   ],
   "source": [
    "# Calculate the base costs for non-disputed and disputed complaints\n",
    "cost_non_disputed = 100  # Cost for non-disputed complaints\n",
    "cost_disputed = 600  # Cost for disputed complaints ($100 initial + $500 additional)\n",
    "\n",
    "# Calculate the total cost without a model\n",
    "total_cost_no_model = (y_test == 0).sum() * cost_non_disputed + (y_test == 1).sum() * cost_disputed\n",
    "\n",
    "print(f\"Total cost without a model: ${total_cost_no_model}\")\n"
   ]
  },
  {
   "cell_type": "code",
   "execution_count": 16,
   "id": "f2a5ae2e-9d18-4fb7-8aab-586ebfb873a6",
   "metadata": {
    "tags": []
   },
   "outputs": [
    {
     "name": "stdout",
     "output_type": "stream",
     "text": [
      "Cost with model with extra diligence: 7875880\n"
     ]
    }
   ],
   "source": [
    "# Calculate cost with the model predictions, incorporating extra diligence\n",
    "cost_with_diligence = fp * 190 + tp * 190 + fn * 600 + tn * 100\n",
    "\n",
    "print(\"Cost with model with extra diligence:\", cost_with_diligence)\n"
   ]
  },
  {
   "cell_type": "code",
   "execution_count": 20,
   "id": "f72d8953-c4cc-4096-b42f-3bff8375eed0",
   "metadata": {},
   "outputs": [
    {
     "name": "stdout",
     "output_type": "stream",
     "text": [
      "Optimal threshold for decision: 0.46\n",
      "Minimum cost with model using optimal threshold: 7589140\n"
     ]
    }
   ],
   "source": [
    "import numpy as np\n",
    "from sklearn.metrics import confusion_matrix\n",
    "\n",
    "# Existing predictions\n",
    "y_proba = model_xgb.predict_proba(X_test)[:, 1]\n",
    "\n",
    "# Define the costs\n",
    "cost_diligence = 190\n",
    "cost_dispute = 600\n",
    "cost_no_dispute = 100\n",
    "\n",
    "# Initialize the list to store costs for each threshold\n",
    "thresholds = np.linspace(0, 1, 101)\n",
    "costs = []\n",
    "\n",
    "# Loop through each threshold to calculate the cost\n",
    "for threshold in thresholds:\n",
    "    # Make predictions based on the threshold\n",
    "    y_pred_threshold = (y_proba > threshold).astype(int)\n",
    "    \n",
    "    # Calculate confusion matrix components for the current threshold\n",
    "    tn, fp, fn, tp = confusion_matrix(y_test, y_pred_threshold).ravel()\n",
    "    \n",
    "    # Calculate the cost for the current threshold\n",
    "    cost = (tp + fp) * cost_diligence + fn * cost_dispute + tn * cost_no_dispute\n",
    "    costs.append(cost)\n",
    "\n",
    "# Identify the threshold with the minimum cost\n",
    "min_cost = min(costs)\n",
    "optimal_threshold = thresholds[costs.index(min_cost)]\n",
    "\n",
    "print(\"Optimal threshold for decision:\", optimal_threshold)\n",
    "print(\"Minimum cost with model using optimal threshold:\", min_cost)\n"
   ]
  },
  {
   "cell_type": "code",
   "execution_count": null,
   "id": "115ebcdc-d845-439d-8a78-f9e620ad44f8",
   "metadata": {},
   "outputs": [],
   "source": []
  }
 ],
 "metadata": {
  "kernelspec": {
   "display_name": "Python [conda env:mggy8413]",
   "language": "python",
   "name": "conda-env-mggy8413-py"
  },
  "language_info": {
   "codemirror_mode": {
    "name": "ipython",
    "version": 3
   },
   "file_extension": ".py",
   "mimetype": "text/x-python",
   "name": "python",
   "nbconvert_exporter": "python",
   "pygments_lexer": "ipython3",
   "version": "3.10.12"
  }
 },
 "nbformat": 4,
 "nbformat_minor": 5
}
